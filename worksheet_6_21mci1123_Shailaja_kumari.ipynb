{
  "cells": [
    {
      "cell_type": "code",
      "execution_count": null,
      "metadata": {
        "colab": {
          "base_uri": "https://localhost:8080/"
        },
        "id": "B4fWUhSqEHjF",
        "outputId": "0828ad15-6ad4-40de-dea1-2530914629ab"
      },
      "outputs": [
        {
          "name": "stdout",
          "output_type": "stream",
          "text": [
            "Collecting chatterbot\n",
            "  Downloading ChatterBot-1.0.8-py2.py3-none-any.whl (63 kB)\n",
            "\u001b[K     |████████████████████████████████| 63 kB 1.7 MB/s \n",
            "\u001b[?25hCollecting sqlalchemy<1.4,>=1.3\n",
            "  Downloading SQLAlchemy-1.3.24-cp37-cp37m-manylinux2010_x86_64.whl (1.3 MB)\n",
            "\u001b[K     |████████████████████████████████| 1.3 MB 11.1 MB/s \n",
            "\u001b[?25hRequirement already satisfied: pytz in /usr/local/lib/python3.7/dist-packages (from chatterbot) (2018.9)\n",
            "Collecting mathparse<0.2,>=0.1\n",
            "  Downloading mathparse-0.1.2-py3-none-any.whl (7.2 kB)\n",
            "Requirement already satisfied: python-dateutil<2.9,>=2.8 in /usr/local/lib/python3.7/dist-packages (from chatterbot) (2.8.2)\n",
            "Requirement already satisfied: six>=1.5 in /usr/local/lib/python3.7/dist-packages (from python-dateutil<2.9,>=2.8->chatterbot) (1.15.0)\n",
            "Installing collected packages: sqlalchemy, mathparse, chatterbot\n",
            "  Attempting uninstall: sqlalchemy\n",
            "    Found existing installation: SQLAlchemy 1.4.35\n",
            "    Uninstalling SQLAlchemy-1.4.35:\n",
            "      Successfully uninstalled SQLAlchemy-1.4.35\n",
            "Successfully installed chatterbot-1.0.8 mathparse-0.1.2 sqlalchemy-1.3.24\n",
            "Collecting chatterbot_corpus\n",
            "  Downloading chatterbot_corpus-1.2.0-py2.py3-none-any.whl (117 kB)\n",
            "\u001b[K     |████████████████████████████████| 117 kB 5.0 MB/s \n",
            "\u001b[?25hRequirement already satisfied: PyYAML<4.0,>=3.12 in /usr/local/lib/python3.7/dist-packages (from chatterbot_corpus) (3.13)\n",
            "Installing collected packages: chatterbot-corpus\n",
            "Successfully installed chatterbot-corpus-1.2.0\n"
          ]
        }
      ],
      "source": [
        "!pip install chatterbot\n",
        "!pip install chatterbot_corpus"
      ]
    },
    {
      "cell_type": "code",
      "execution_count": null,
      "metadata": {
        "id": "NNb1vinrEeF-"
      },
      "outputs": [],
      "source": [
        "# Importing chatterbot\n",
        "from chatterbot import ChatBot\n"
      ]
    },
    {
      "cell_type": "code",
      "execution_count": null,
      "metadata": {
        "id": "9jr_wVhyEjQR"
      },
      "outputs": [],
      "source": [
        "# Create object of ChatBot class\n",
        "bot = ChatBot('hellobuddy')"
      ]
    },
    {
      "cell_type": "code",
      "execution_count": null,
      "metadata": {
        "id": "NszcbSnOFEG2"
      },
      "outputs": [],
      "source": [
        "# Create object of ChatBot class with Storage Adapter\n",
        "bot = ChatBot(\n",
        " 'Eva',\n",
        " storage_adapter='chatterbot.storage.SQLStorageAdapter',\n",
        " database_uri='sqlite:///database.sqlite3'\n",
        ")"
      ]
    },
    {
      "cell_type": "code",
      "execution_count": null,
      "metadata": {
        "id": "GzN98d_RFOr3"
      },
      "outputs": [],
      "source": [
        "# Create object of ChatBot class with Logic Adapter\n",
        "bot = ChatBot(\n",
        " 'hellobuddy',\n",
        " logic_adapters=[\n",
        " 'chatterbot.logic.BestMatch',\n",
        " 'chatterbot.logic.TimeLogicAdapter'],\n",
        ")\n"
      ]
    },
    {
      "cell_type": "code",
      "execution_count": null,
      "metadata": {
        "colab": {
          "base_uri": "https://localhost:8080/"
        },
        "id": "NhG219a1FWmC",
        "outputId": "4956bc21-4f64-4c00-818b-c1ca3a6b7791"
      },
      "outputs": [
        {
          "name": "stdout",
          "output_type": "stream",
          "text": [
            "List Trainer: [####################] 100%\n"
          ]
        }
      ],
      "source": [
        "# Inport ListTrainer\n",
        "from chatterbot.trainers import ListTrainer\n",
        "trainer = ListTrainer(bot)\n",
        "trainer.train([\n",
        "'Hi',\n",
        "'Hello',\n",
        "'I need your assistance for finding best college for me',\n",
        "'Please, Provide me your location or education qualification',\n",
        "'I have to find college for MCA.',\n",
        "'Please specify what specilization are you looking for ',\n",
        "'aiml',\n",
        "'what is the fee structure  ?',\n",
        "'It depends on the specilization you have choosen and college ,here are the list of some colleges with their fee structure ',\n",
        "'Okay Thanks',\n",
        "'No Problem! Have a Good Day!'\n",
        "])"
      ]
    },
    {
      "cell_type": "code",
      "execution_count": null,
      "metadata": {
        "colab": {
          "base_uri": "https://localhost:8080/"
        },
        "id": "IWdIfvzfG36S",
        "outputId": "93e1cd44-60aa-4dab-e037-3d1081133de5"
      },
      "outputs": [
        {
          "name": "stdout",
          "output_type": "stream",
          "text": [
            "Bot Response: Please specify what specilization are you looking for\n"
          ]
        }
      ],
      "source": [
        "\n",
        "response = bot.get_response('I have to find college for MCA.')\n",
        "print(\"Bot Response:\", response)\n"
      ]
    },
    {
      "cell_type": "code",
      "execution_count": null,
      "metadata": {
        "colab": {
          "base_uri": "https://localhost:8080/"
        },
        "id": "R-KeFvR8Hhhg",
        "outputId": "232cb19f-bba5-40ba-ad1c-fb8a58c71e78"
      },
      "outputs": [
        {
          "name": "stdout",
          "output_type": "stream",
          "text": [
            "Enter Your Name: shailaja\n",
            "Welcome to the Bot Service! Let me know how can I help you?\n",
            "shailaja:I need your assistance for finding best college for me\n",
            "Bot: Please, Provide me your location or education qualification\n",
            "shailaja:I have to find college for MCA.\n",
            "Bot: Please specify what specilization are you looking for\n",
            "shailaja:aiml\n",
            "Bot: what is the fee structure ?\n",
            "shailaja:It depends on the specilization you have choosen and college ,here are the list of some colleges with their fee structure \n",
            "Bot: Okay Thanks\n",
            "shailaja:No Problem! Have a Good Day!\n",
            "Bot: It depends on the specilization you have choosen and college ,here are the list of some colleges with their fee structure\n",
            "shailaja:what is the fee structure  ?'\n",
            "Bot: The current time is 04:55 AM\n",
            "shailaja:ok thankyou\n",
            "Bot: The current time is 04:55 AM\n",
            "shailaja:ok thank you\n",
            "Bot: welcome \n"
          ]
        }
      ],
      "source": [
        "name=input(\"Enter Your Name: \")\n",
        "print(\"Welcome to the Bot Service! Let me know how can I help you?\")\n",
        "while True:\n",
        " request=input(name+':')\n",
        " if request=='ok thank you' or request =='OK THANKYOU':\n",
        "  print('Bot: welcome ')\n",
        "  break\n",
        " else:\n",
        "  response=bot.get_response(request)\n",
        "  print('Bot:',response)\n"
      ]
    },
    {
      "cell_type": "code",
      "execution_count": null,
      "metadata": {
        "id": "9CsmeDBqSo_k"
      },
      "outputs": [],
      "source": [
        ""
      ]
    },
    {
      "cell_type": "code",
      "execution_count": null,
      "metadata": {
        "id": "_vJonImLSqD1"
      },
      "outputs": [],
      "source": [
        ""
      ]
    },
    {
      "cell_type": "code",
      "execution_count": null,
      "metadata": {
        "id": "tPDh1XU3SrC2"
      },
      "outputs": [],
      "source": [
        ""
      ]
    },
    {
      "cell_type": "markdown",
      "metadata": {
        "id": "jNUDRkfNYQE3"
      },
      "source": [
        "worksheet 6"
      ]
    },
    {
      "cell_type": "code",
      "execution_count": null,
      "metadata": {
        "colab": {
          "base_uri": "https://localhost:8080/"
        },
        "id": "K8caqbNRSs0t",
        "outputId": "c6aa2ce9-310d-4e79-9864-c2d5632b1937"
      },
      "outputs": [
        {
          "name": "stdout",
          "output_type": "stream",
          "text": [
            "Requirement already satisfied: nltk in /usr/local/lib/python3.7/dist-packages (3.2.5)\n",
            "Requirement already satisfied: six in /usr/local/lib/python3.7/dist-packages (from nltk) (1.15.0)\n"
          ]
        }
      ],
      "source": [
        "pip install nltk\n"
      ]
    },
    {
      "cell_type": "code",
      "execution_count": null,
      "metadata": {
        "id": "26bkso9OTXO5"
      },
      "outputs": [],
      "source": [
        "import nltk\n",
        "from nltk.chat.util import Chat, reflections"
      ]
    },
    {
      "cell_type": "code",
      "execution_count": null,
      "metadata": {
        "colab": {
          "base_uri": "https://localhost:8080/"
        },
        "id": "OOTyTky7iiZ-",
        "outputId": "b29c0240-7fc4-4eeb-b90f-35ec16d2e34c"
      },
      "outputs": [
        {
          "name": "stdout",
          "output_type": "stream",
          "text": [
            "<class 'nltk.chat.util.Chat'>\n"
          ]
        }
      ],
      "source": [
        "print(Chat)"
      ]
    },
    {
      "cell_type": "code",
      "execution_count": null,
      "metadata": {
        "id": "7RT3h1hWT-dh"
      },
      "outputs": [],
      "source": [
        "reflections = {\n",
        "  \"i am\"       : \"you are\",\n",
        "  \"i was\"      : \"you were\",\n",
        "  \"i\"          : \"you\",\n",
        "  \"i'm\"        : \"you are\",\n",
        "  \"i'd\"        : \"you would\",\n",
        "  \"i've\"       : \"you have\",\n",
        "  \"i'll\"       : \"you will\",\n",
        "  \"my\"         : \"your\",\n",
        "  \"you are\"    : \"I am\",\n",
        "  \"you were\"   : \"I was\",\n",
        "  \"you've\"     : \"I have\",\n",
        "  \"you'll\"     : \"I will\",\n",
        "  \"your\"       : \"my\",\n",
        "  \"yours\"      : \"mine\",\n",
        "  \"you\"        : \"me\",\n",
        "  \"me\"         : \"you\"\n",
        "}"
      ]
    },
    {
      "cell_type": "code",
      "execution_count": null,
      "metadata": {
        "id": "2wTTv-S_VMXL"
      },
      "outputs": [],
      "source": [
        "set_pairs = [\n",
        "    [\n",
        "        r\"my name is (.*)\",\n",
        "        [\"Hello %1 How are you today ?\",]\n",
        "    ],\n",
        "    [\n",
        "        r\"hi | hey | hello\",\n",
        "        [\"Hello\",]\n",
        "    ], \n",
        "    [\n",
        "        r\"what is your name ?\",\n",
        "        [\"I am a bot of amazon services. you can call me alexa!\",]\n",
        "    ],\n",
        "    [\n",
        "        r\"how are you ?\",\n",
        "        [\"I'm doing good .How about You ?\",]\n",
        "    ],\n",
        "    [\n",
        "        r\"i am also good (.*)\",\n",
        "        [\"good to hear it\",]\n",
        "    ],\n",
        "    [\n",
        "        r\"yes, thank you\",\n",
        "        [\" How can I help you?\",]\n",
        "    ],\n",
        "    [\n",
        "        r\"i'm seaarchrching for laptops of 11th genration in range of 40 to 50 thousand\",\n",
        "        [\"ok well here are the list of all the possible outcome for your se\",]\n",
        "    ],\n",
        "    [\n",
        "        r\"(.*) yes\",\n",
        "        [\"how can i help you?\",]\n",
        "    ],\n",
        "    [\n",
        "        r\"bring me the list of laptops having 12gb RAM and high speed Ryzen processor\",\n",
        "        [\"ok here is this list for your desired search\",]\n",
        "    ],\n",
        "    [\n",
        "        r\"is there any sale going on or likely to come?\",\n",
        "        [\"yes sunday sale is going on you might get an offer of 10% on online payment through credit card or 5%off through sbi debit card  \",]\n",
        "    ],\n",
        "    [\n",
        "        r\" ok thats great\",\n",
        "        [\"yes do u need more help?\",]\n",
        "    ],\n",
        "    [\n",
        "        r\" yes what is the latest model of realme moboile in market\",\n",
        "        [\"the latest mobile in realme are \",]\n",
        "    ],\n",
        "    [\n",
        "        r\"ok thank you for you help\",\n",
        "        [\"i am happy to help you\",]\n",
        "    ],\n",
        "    [\n",
        "        r\"bye\",\n",
        "        [\"bye bye take carehave a good day\"]\n",
        "    ],\n",
        "    \n",
        "]"
      ]
    },
    {
      "cell_type": "code",
      "execution_count": null,
      "metadata": {
        "colab": {
          "base_uri": "https://localhost:8080/"
        },
        "id": "EN5gnFQbizaa",
        "outputId": "7e9ebbb3-4eb6-4004-83c9-44dba974bc6c"
      },
      "outputs": [
        {
          "name": "stdout",
          "output_type": "stream",
          "text": [
            "Hi, I'm the chatbot you built\n"
          ]
        }
      ],
      "source": [
        "def chatbot():\n",
        " print(\"Hi, I'm the chatbot you built\")\n",
        "chatbot()"
      ]
    },
    {
      "cell_type": "code",
      "execution_count": null,
      "metadata": {
        "colab": {
          "base_uri": "https://localhost:8080/"
        },
        "id": "uOaaqpaPjB_k",
        "outputId": "7dab5e34-0594-4e73-fa63-7a380eb77085"
      },
      "outputs": [
        {
          "name": "stdout",
          "output_type": "stream",
          "text": [
            "<nltk.chat.util.Chat object at 0x7f2a3fa5f510>\n"
          ]
        }
      ],
      "source": [
        "chat  = Chat(set_pairs,reflections)\n",
        "print(chat)\n"
      ]
    },
    {
      "cell_type": "code",
      "execution_count": null,
      "metadata": {
        "colab": {
          "background_save": true,
          "base_uri": "https://localhost:8080/"
        },
        "id": "73zW7mAdmrG2",
        "outputId": "230020e4-7b4d-4434-868a-de3f43a91812"
      },
      "outputs": [
        {
          "name": "stdout",
          "output_type": "stream",
          "text": [
            "I am a bot of amazon services. you can call me alexa!\n",
            "I'm doing good .How about You ?\n",
            "good to hear it\n",
            " How can I help you?\n",
            "ok here is this list for your desired search\n",
            "None\n",
            "None\n",
            "i am happy to help you\n",
            "bye bye take carehave a good day\n"
          ]
        }
      ],
      "source": [
        "chat.converse()\n",
        "if __name__ == \"__main__\":\n",
        " chatbot()"
      ]
    },
    {
      "cell_type": "code",
      "execution_count": null,
      "metadata": {
        "id": "qHRvRHJhkat_"
      },
      "outputs": [],
      "source": [
        ""
      ]
    },
    {
      "cell_type": "code",
      "execution_count": null,
      "metadata": {
        "id": "1g69t6shhXle"
      },
      "outputs": [],
      "source": [
        ""
      ]
    },
    {
      "cell_type": "code",
      "execution_count": null,
      "metadata": {
        "id": "y-tx-Gk9Xp1o"
      },
      "outputs": [],
      "source": [
        "\n"
      ]
    }
  ],
  "metadata": {
    "colab": {
      "name": "worksheet_6_21mci1123_Shailaja_kumari.ipynb",
      "provenance": []
    },
    "kernelspec": {
      "display_name": "Python 3",
      "name": "python3"
    },
    "language_info": {
      "name": "python"
    }
  },
  "nbformat": 4,
  "nbformat_minor": 0
}